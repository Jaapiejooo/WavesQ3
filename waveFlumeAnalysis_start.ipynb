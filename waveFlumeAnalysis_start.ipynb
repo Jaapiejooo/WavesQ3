{
 "cells": [
  {
   "cell_type": "markdown",
   "metadata": {},
   "source": [
    "<h2>Lab work Waves Unit \n",
    " (module CIEM3000)</h2>"
   ]
  },
  {
   "cell_type": "markdown",
   "metadata": {},
   "source": [
    "<h1 style=\"color:#00BFFF;\">Data analysis labwork prep</h1>\n",
    "<hr style=\"height:2px;border:none;color:#333;\" />"
   ]
  },
  {
   "cell_type": "markdown",
   "metadata": {},
   "source": [
    "This notebook will help you start with your data analysis. The main objective is to obtain a data series from the daisy files you generated during the experiments, which you can then use to answer your research questions."
   ]
  },
  {
   "cell_type": "markdown",
   "metadata": {},
   "source": [
    "<h3 style=\"color:#00BFFF;\">Loading in some basic packages for calculations and operations </h3>\n",
    "<hr style=\"height:1.5px;border:none;color:#333;\" />"
   ]
  },
  {
   "cell_type": "code",
   "execution_count": 44,
   "metadata": {},
   "outputs": [],
   "source": [
    "import numpy as np\n",
    "import matplotlib.pyplot as plt\n",
    "import scipy.signal #importing scipy.signal package for detrending\n",
    "from scipy.fftpack import fft #importing Fourier transform package\n",
    "from scipy.stats import chi2 #importing confidence interval package\n",
    "\n",
    "plt.rcParams['figure.figsize'] = (15, 5)  # Set the width and height of plots in inches\n",
    "plt.rcParams.update({'font.size': 13})  # Change this value to your desired font size"
   ]
  },
  {
   "cell_type": "markdown",
   "metadata": {},
   "source": [
    "<h3 style=\"color:#00BFFF;\">Data import </h3>\n",
    "<hr style=\"height:1.5px;border:none;color:#333;\" />"
   ]
  },
  {
   "cell_type": "markdown",
   "metadata": {},
   "source": [
    "First import the data for both the EMF's and the wavegauges, using `np.loadtxt`, with `dtype = float`. The first rows of your ASC are headers that provide information of the data, the parameter `skiprows` avoid these. Note that the information of all sensors is stored in the array. Then store the time in an array and EMF and wavegauge data separately. Open the ASC file with a text editor to verify what each column represents."
   ]
  },
  {
   "cell_type": "code",
   "execution_count": 45,
   "metadata": {},
   "outputs": [],
   "source": [
    "# fileName = 'run_test.ASC'\n",
    "# data  = np.array(np.loadtxt(  'run_test.ASC', dtype = float, delimiter = ';', usecols=range(12), skiprows = 7))\n",
    "\n",
    "# plt.plot(data[:, 0], data[:, 1])\n",
    "# plt.xlabel('time (s)')\n",
    "# plt.ylabel('???')\n",
    "# plt.grid()"
   ]
  },
  {
   "cell_type": "code",
   "execution_count": 46,
   "metadata": {},
   "outputs": [],
   "source": [
    "fdir = 'Flume'\n",
    "filesep = '/'\n",
    "numRun = [1,2,4,5,6,8,9,10,'regular']\n",
    "res ={}\n",
    "\n",
    "for i in numRun:\n",
    "    if i != 'regular':\n",
    "        fname = 'run' + str(i)\n",
    "    else:\n",
    "        fname = 'regular'\n",
    "\n",
    "    fLoc = fdir + filesep + fname + '.ASC'\n",
    "\n",
    "    data = np.genfromtxt(fLoc,delimiter=';',skip_header=7,dtype=float)\n",
    "\n",
    "    t = data[:,0]\n",
    "    wl = data[:,1::2]\n",
    "    v= data[:,2:-1:2]\n",
    "\n",
    "    res[fname] = {\n",
    "            'time' : t,\n",
    "            'wl' : wl,\n",
    "            'vel' : v,\n",
    "        }\n"
   ]
  },
  {
   "cell_type": "code",
   "execution_count": 6,
   "metadata": {},
   "outputs": [],
   "source": [
    "# plot water level data (in Volt)\n",
    "for d in res.keys():\n",
    "    plt.figure(figsize=[20,20])\n",
    "    #plt.title(d,pad=10)\n",
    "    plt.tight_layout()\n",
    "    for i in range(6):\n",
    "        plt.subplot(6,1,i+1) \n",
    "        plt.plot(res[d]['time'],res[d]['wl'][:,i],label='WG'+str(i+1))\n",
    "        plt.legend()\n",
    "        \n",
    "    plt.savefig('Figure'+filesep+'wl_'+d+'.png',bbox_inches='tight')\n",
    "    plt.close()"
   ]
  },
  {
   "cell_type": "code",
   "execution_count": 7,
   "metadata": {},
   "outputs": [],
   "source": [
    "# plot velocity data (in Volt)\n",
    "for d in res.keys():\n",
    "    plt.figure(figsize=[15,30])\n",
    "    for i in range(5):\n",
    "        plt.subplot(5,1,i+1)\n",
    "        plt.plot(res[d]['time'],res[d]['vel'][:,i],label='WG'+str(i+1))\n",
    "        plt.legend()\n",
    "    plt.savefig('Figure'+filesep+'vel_'+d+'.png')\n",
    "    plt.close()"
   ]
  },
  {
   "cell_type": "markdown",
   "metadata": {},
   "source": [
    "<h1 style=\"color:#00BFFF;\"> Data postprocessing </h1>\n",
    "<hr style=\"height:2px;border:none;color:#333;\" />"
   ]
  },
  {
   "cell_type": "markdown",
   "metadata": {},
   "source": [
    "<h3 style=\"color:#00BFFF;\">Data calibration </h3>\n",
    "<hr style=\"height:1.5px;border:none;color:#333;\" />"
   ]
  },
  {
   "cell_type": "markdown",
   "metadata": {},
   "source": [
    "The next step is to convert from volts to flow velocities for EMF and from volts to meters for WG. Every EMF follows the same conversion formula $u=0.1023x$, where $x$ is the data read. Do not worry yet about the initial offset (i.e.,flow velocities not being 0 at the beginning of the run), that will be removed in the next step."
   ]
  },
  {
   "cell_type": "code",
   "execution_count": 47,
   "metadata": {},
   "outputs": [],
   "source": [
    "for d in res.keys():\n",
    "    res[d][\"vlm\"] = res[d][\"vel\"] * 0.1023"
   ]
  },
  {
   "cell_type": "markdown",
   "metadata": {},
   "source": [
    "Different parameters are used for converting the wave gauge data to metres. Use the following formula $\\eta=coefficient * x$, where $x$ is the data read and the coeffificents are 0.0253,  0.0248 , 0.0249 , 0.0245 , 0.0244 , 0.00502. The order goes from offshore to onshore (the first one is the closest to the wave generator). Again, do not worry yet about the vertical offset. \n"
   ]
  },
  {
   "cell_type": "code",
   "execution_count": 48,
   "metadata": {},
   "outputs": [
    {
     "name": "stdout",
     "output_type": "stream",
     "text": [
      "run1 measurement 0 = -0.030486000000000003\n",
      "run1 measurement 1 = -0.022071666666666667\n",
      "run1 measurement 2 = -0.026601888888888887\n",
      "run1 measurement 3 = -0.017209074074074075\n",
      "run1 measurement 4 = -0.01279639506172839\n",
      "run1 measurement 5 = 0.019234937448559673\n",
      "run2 measurement 0 = -0.08381933333333332\n",
      "run2 measurement 1 = -0.03822411111111111\n",
      "run2 measurement 2 = -0.06185342592592593\n",
      "run2 measurement 3 = -0.016667021604938274\n",
      "run2 measurement 4 = -0.00649435133744856\n",
      "run2 measurement 5 = 0.03515470721879287\n",
      "run4 measurement 0 = -0.16428316666666667\n",
      "run4 measurement 1 = -0.14739780555555557\n",
      "run4 measurement 2 = -0.08320533796296295\n",
      "run4 measurement 3 = -0.08169878163580246\n",
      "run4 measurement 4 = -0.0529163180298354\n",
      "run4 measurement 5 = 0.08617410164180384\n",
      "run5 measurement 0 = -0.062236999999999994\n",
      "run5 measurement 1 = -0.055321499999999996\n",
      "run5 measurement 2 = -0.03447541666666667\n",
      "run5 measurement 3 = -0.041982513888888885\n",
      "run5 measurement 4 = -0.023358594907407413\n",
      "run5 measurement 5 = 0.036702837577160495\n",
      "run6 measurement 0 = -0.11398799999999999\n",
      "run6 measurement 1 = -0.11357133333333334\n",
      "run6 measurement 2 = -0.06976794444444444\n",
      "run6 measurement 3 = -0.04761912037037037\n",
      "run6 measurement 4 = -0.029559433641975313\n",
      "run6 measurement 5 = 0.06106037196502057\n",
      "run8 measurement 0 = -0.240992\n",
      "run8 measurement 1 = -0.14636316666666666\n",
      "run8 measurement 2 = -0.12746730555555555\n",
      "run8 measurement 3 = -0.07959692129629631\n",
      "run8 measurement 4 = -0.04417893441358025\n",
      "run8 measurement 5 = 0.10471188798868312\n",
      "run9 measurement 0 = -0.11740566666666667\n",
      "run9 measurement 1 = -0.10979405555555556\n",
      "run9 measurement 2 = -0.05836921296296297\n",
      "run9 measurement 3 = -0.06071651080246915\n",
      "run9 measurement 4 = -0.03039075900205762\n",
      "run9 measurement 5 = 0.061942734164951996\n",
      "run10 measurement 0 = -0.19757433333333332\n",
      "run10 measurement 1 = -0.1701826111111111\n",
      "run10 measurement 2 = -0.10056650925925927\n",
      "run10 measurement 3 = -0.07112292438271606\n",
      "run10 measurement 4 = -0.034143770318930046\n",
      "run10 measurement 5 = 0.09347602473422496\n",
      "regular measurement 0 = -0.29278516666666665\n",
      "regular measurement 1 = -0.24306580555555557\n",
      "regular measurement 2 = -0.14980183796296298\n",
      "regular measurement 3 = -0.09134569830246915\n",
      "regular measurement 4 = -0.044573915252057617\n",
      "regular measurement 5 = 0.13293200395661867\n"
     ]
    }
   ],
   "source": [
    "coefficients = [0.0253, 0.0248, 0.0249, 0.0245, 0.0244, 0.00502]\n",
    "for d in res.keys():\n",
    "    res[d][\"eta\"]=np.copy(res[d][\"wl\"])\n",
    "    for i in range(6):     \n",
    "        res[d][\"eta\"][:,i] = res[d][\"wl\"][:,i]* coefficients[i]\n",
    "        print(f\"{d} measurement {i} = {np.mean(res[d]['eta'][i])}\")\n",
    "        res[d][\"eta\"][:,i] -= np.mean(res[d][\"eta\"][i])\n",
    "#    for i in range(6):\n",
    "    #    res[d][\"eta\"][i] = res[d][\"wl\"]* coefficients[i]"
   ]
  },
  {
   "cell_type": "code",
   "execution_count": 53,
   "metadata": {},
   "outputs": [
    {
     "name": "stdout",
     "output_type": "stream",
     "text": [
      "[[ 0.28  0.    0.03 -0.03 -0.02 -0.17]\n",
      " [ 0.28  0.    0.03 -0.01 -0.02 -0.17]\n",
      " [ 0.28  0.    0.03 -0.02 -0.02 -0.18]\n",
      " ...\n",
      " [ 0.3  -0.01  0.02  0.08 -0.02 -0.05]\n",
      " [ 0.3  -0.02  0.02  0.   -0.03 -0.14]\n",
      " [ 0.3  -0.03  0.01  0.1  -0.05 -0.19]]\n",
      "[[ 0.03757     0.02207167  0.02734889  0.01647407  0.0123084  -0.02008834]\n",
      " [ 0.03757     0.02207167  0.02734889  0.01696407  0.0123084  -0.02008834]\n",
      " [ 0.03757     0.02207167  0.02734889  0.01671907  0.0123084  -0.02013854]\n",
      " ...\n",
      " [ 0.038076    0.02182367  0.02709989  0.01916907  0.0123084  -0.01948594]\n",
      " [ 0.038076    0.02157567  0.02709989  0.01720907  0.0120644  -0.01993774]\n",
      " [ 0.038076    0.02132767  0.02685089  0.01965907  0.0115764  -0.02018874]]\n"
     ]
    }
   ],
   "source": [
    "print(res[\"run1\"][\"wl\"])\n",
    "print(res[\"run1\"][\"eta\"])"
   ]
  },
  {
   "cell_type": "markdown",
   "metadata": {},
   "source": [
    "<h3 style=\"color:#00BFFF;\">Offset removal and other quality checks </h3>\n",
    "<hr style=\"height:1.5px;border:none;color:#333;\" />"
   ]
  },
  {
   "cell_type": "markdown",
   "metadata": {},
   "source": [
    "Remove the vertical offset in the timeseries, i.e. transform the time series so that the elevation and velocities are zeros when the water is at rest. First, visually inspect the data to see for what time interval this is still the case. Then determine the offset, for example via the mean elevation or velocity over this time interval. The offset is removed by subtracting this mean value from the entire dataset. Note that the offset is different for each sensor and might vary per run. "
   ]
  },
  {
   "cell_type": "code",
   "execution_count": null,
   "metadata": {
    "scrolled": false
   },
   "outputs": [],
   "source": []
  },
  {
   "cell_type": "code",
   "execution_count": null,
   "metadata": {
    "scrolled": false
   },
   "outputs": [],
   "source": []
  },
  {
   "cell_type": "markdown",
   "metadata": {},
   "source": [
    "If you are working with the velocity timeseries, make sure that the instruments have been orientated properly. One quick way to do so is to check that the horizontal velocity and elevation at the start of the run are in phase. Of one sensor plot the first seconds of the WG and EMF, the signals must be one on top of the other with a different scale. Check it for every sensor."
   ]
  },
  {
   "cell_type": "code",
   "execution_count": null,
   "metadata": {
    "scrolled": false
   },
   "outputs": [],
   "source": []
  },
  {
   "cell_type": "markdown",
   "metadata": {},
   "source": [
    "<h3 style=\"color:#00BFFF;\"> Stationarity  </h3>\n",
    "<hr style=\"height:1.5px;border:none;color:#333;\" />"
   ]
  },
  {
   "cell_type": "markdown",
   "metadata": {},
   "source": [
    "The wavemaker starts generating waves at the offshore boundary over an initially flat water surface. It will take some time before stationary conditions are reached (e.g., the waves need to propagate over the full domain and back in case of reflection, and setup needs time to build up). Do not forget to remove this \"spinup time\" before calculating any wave statistics. \n",
    "<br>\n",
    "To determine the spinup time, visually check at what time the sensors start measuring waves and add 60 seconds to ensure stationarity. Remove this data from your time series. Follow a similar process to delete the last part of the run, once the paddle was stopped. "
   ]
  },
  {
   "cell_type": "code",
   "execution_count": null,
   "metadata": {
    "scrolled": false
   },
   "outputs": [],
   "source": []
  },
  {
   "cell_type": "markdown",
   "metadata": {},
   "source": [
    "<hr style=\"height:1.5px;border:none;color:#333;\" />\n",
    "<h1 style=\"color:#00BFFF;\"> Compare your input data to the measured data </h1>\n",
    "<hr style=\"height:1.5px;border:none;color:#333;\" />"
   ]
  },
  {
   "cell_type": "markdown",
   "metadata": {},
   "source": [
    "Use the most offshore sensor to compute the significant wave height and peak period (following the computer laboratory on spectral analysis and associated lectures). How do the values compare? "
   ]
  },
  {
   "cell_type": "code",
   "execution_count": null,
   "metadata": {},
   "outputs": [],
   "source": []
  },
  {
   "cell_type": "markdown",
   "metadata": {},
   "source": [
    "<hr style=\"height:1.5px;border:none;color:#333;\" />\n",
    "<h1 style=\"color:#00BFFF;\"> Compare measurements to linear wave theory </h1>\n",
    "<hr style=\"height:1.5px;border:none;color:#333;\" />"
   ]
  },
  {
   "cell_type": "markdown",
   "metadata": {},
   "source": [
    "Do flow velocity measurements match the amplitude flow velocities predicted by linear wave theory? This is a final quality control check. \n",
    "<br>\n",
    "Use the significant wave height and significant wave period extracted from sensor 1, to compute the velocity amplitude ($û_x$, see lecture 2, Q2). You will require your measured EMF depth."
   ]
  },
  {
   "cell_type": "code",
   "execution_count": null,
   "metadata": {},
   "outputs": [],
   "source": []
  },
  {
   "cell_type": "markdown",
   "metadata": {},
   "source": [
    "Plot part of your measured flow velocity. Are these values in the same order of magnitude as those predicted by linear wave theory? \n",
    "<br>\n",
    "Don't expect an exact match as the measure flow velocity corresponds to an irregular wave field while the formula for the flow velocities correspond to regular waves."
   ]
  },
  {
   "cell_type": "code",
   "execution_count": null,
   "metadata": {
    "scrolled": false
   },
   "outputs": [],
   "source": []
  },
  {
   "cell_type": "markdown",
   "metadata": {},
   "source": [
    "<hr style=\"height:1.5px;border:none;color:#333;\" />\n",
    "Notebook made and updated by\n",
    "<br>\n",
    "- Joep Huijbregts\n",
    "<br>\n",
    "- Jaime Arriaga Garcia\n",
    "<br>\n",
    "- Marion Tissier \n",
    "<br>\n",
    "- Ad Reniers\n",
    "\n"
   ]
  }
 ],
 "metadata": {
  "kernelspec": {
   "display_name": "mude-base",
   "language": "python",
   "name": "python3"
  },
  "language_info": {
   "codemirror_mode": {
    "name": "ipython",
    "version": 3
   },
   "file_extension": ".py",
   "mimetype": "text/x-python",
   "name": "python",
   "nbconvert_exporter": "python",
   "pygments_lexer": "ipython3",
   "version": "3.12.4"
  }
 },
 "nbformat": 4,
 "nbformat_minor": 2
}
